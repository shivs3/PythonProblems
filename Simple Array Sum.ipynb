{
 "cells": [
  {
   "cell_type": "code",
   "execution_count": 31,
   "metadata": {},
   "outputs": [
    {
     "name": "stdout",
     "output_type": "stream",
     "text": [
      "Enter the size of array: 6\n",
      "6\n",
      "1\n",
      "2\n",
      "3\n",
      "4\n",
      "10.5\n",
      "11.6\n"
     ]
    }
   ],
   "source": [
    "#input size of array\n",
    "n = input(\"Enter the size of array: \")\n",
    "print(int(n))\n",
    "r=int(n)\n",
    "ar = []\n",
    "while(r!=0):\n",
    "    p=input()\n",
    "    ar.append(float(p))\n",
    "    r=r-1\n",
    "    \n",
    "def simpleArraySum(ar):\n",
    "    sum = 0\n",
    "    for i in ar:\n",
    "        sum = sum + i\n",
    "        \n",
    "    return sum\n",
    "        "
   ]
  },
  {
   "cell_type": "code",
   "execution_count": 32,
   "metadata": {},
   "outputs": [
    {
     "data": {
      "text/plain": [
       "32.1"
      ]
     },
     "execution_count": 32,
     "metadata": {},
     "output_type": "execute_result"
    }
   ],
   "source": [
    "simpleArraySum(ar)"
   ]
  }
 ],
 "metadata": {
  "kernelspec": {
   "display_name": "Python 3",
   "language": "python",
   "name": "python3"
  },
  "language_info": {
   "codemirror_mode": {
    "name": "ipython",
    "version": 3
   },
   "file_extension": ".py",
   "mimetype": "text/x-python",
   "name": "python",
   "nbconvert_exporter": "python",
   "pygments_lexer": "ipython3",
   "version": "3.7.6"
  }
 },
 "nbformat": 4,
 "nbformat_minor": 4
}
