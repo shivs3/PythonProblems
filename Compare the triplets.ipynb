{
 "cells": [
  {
   "cell_type": "markdown",
   "metadata": {},
   "source": [
    "# Compare the Triplets"
   ]
  },
  {
   "cell_type": "markdown",
   "metadata": {},
   "source": [
    "Alice and Bob each created one problem for HackerRank. A reviewer rates the two challenges, awarding points on a scale from 1 to 100 for three categories: problem clarity, originality, and difficulty.\n",
    "\n",
    "We define the rating for Alice's challenge to be the triplet a=(a[0],a[1],a[2]), and the rating for Bob's challenge to be the triplet b=(b[0],b[1],b[2]).\n",
    "\n",
    "Your task is to find their comparison points by comparing  with ,  with , and  with .\n",
    "\n",
    "If a[i]>b[i], then Alice is awarded  point.\n",
    "If a[i]<b[i], then Bob is awarded  point.\n",
    "If a[i]=b[i], then neither person receives a point.\n",
    "Comparison points is the total points a person earned.\n",
    "\n",
    "Given a and b, determine their respective comparison points.\n",
    "\n",
    "For example, a=[1,2,3] and b=[3,2,1]. For elements 0, Bob is awarded a point because a[0]<b[0]. For the equal elements a[1] and b[1], no points are earned. Finally, for elements 2, a[2]>b[2] so Alice receives a point. Your return array would be [1,1] with Alice's score first and Bob's second."
   ]
  },
  {
   "cell_type": "markdown",
   "metadata": {},
   "source": [
    "# Solution"
   ]
  },
  {
   "cell_type": "code",
   "execution_count": 1,
   "metadata": {},
   "outputs": [],
   "source": [
    "#importing Array\n",
    "import array as ar"
   ]
  },
  {
   "cell_type": "code",
   "execution_count": 2,
   "metadata": {},
   "outputs": [],
   "source": [
    "a = ar.array('i',[])\n",
    "b = ar.array('i',[])"
   ]
  },
  {
   "cell_type": "code",
   "execution_count": 3,
   "metadata": {},
   "outputs": [
    {
     "name": "stdout",
     "output_type": "stream",
     "text": [
      "Enter the rating for Alice: \n",
      "47\n",
      "85\n",
      "69\n"
     ]
    }
   ],
   "source": [
    "#Input for Alice\n",
    "print(\"Enter the rating for Alice: \")\n",
    "for i in range(3):\n",
    "    x = int(input())\n",
    "    a.append(x)"
   ]
  },
  {
   "cell_type": "code",
   "execution_count": 4,
   "metadata": {},
   "outputs": [
    {
     "name": "stdout",
     "output_type": "stream",
     "text": [
      "Enter the rating for Bob: \n",
      "65\n",
      "41\n",
      "25\n"
     ]
    }
   ],
   "source": [
    "#Input For Bob\n",
    "print(\"Enter the rating for Bob: \")\n",
    "for i in range(3):\n",
    "    y = int(input())\n",
    "    b.append(y)"
   ]
  },
  {
   "cell_type": "code",
   "execution_count": 5,
   "metadata": {},
   "outputs": [],
   "source": [
    "#Defining Function\n",
    "def compareTriplets(a, b):\n",
    "    ascore = 0\n",
    "    bscore = 0\n",
    "    output = ar.array('i',[])\n",
    "    for i in range(3):\n",
    "        if a[i]>b[i]:\n",
    "            ascore=ascore+1   \n",
    "        elif a[i]<b[i]:\n",
    "            bscore=bscore+1\n",
    "    output.append(ascore)\n",
    "    output.append(bscore)\n",
    "    return output"
   ]
  },
  {
   "cell_type": "code",
   "execution_count": 6,
   "metadata": {},
   "outputs": [
    {
     "name": "stdout",
     "output_type": "stream",
     "text": [
      "Output:\n",
      "array('i', [2, 1])\n"
     ]
    }
   ],
   "source": [
    "print('Output:')\n",
    "print(compareTriplets(a,b))"
   ]
  }
 ],
 "metadata": {
  "kernelspec": {
   "display_name": "Python 3",
   "language": "python",
   "name": "python3"
  },
  "language_info": {
   "codemirror_mode": {
    "name": "ipython",
    "version": 3
   },
   "file_extension": ".py",
   "mimetype": "text/x-python",
   "name": "python",
   "nbconvert_exporter": "python",
   "pygments_lexer": "ipython3",
   "version": "3.7.6"
  }
 },
 "nbformat": 4,
 "nbformat_minor": 4
}
