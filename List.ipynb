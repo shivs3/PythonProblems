{
 "cells": [
  {
   "cell_type": "code",
   "execution_count": 7,
   "metadata": {},
   "outputs": [
    {
     "name": "stdout",
     "output_type": "stream",
     "text": [
      "N = 4\n"
     ]
    }
   ],
   "source": [
    "N = int(input(\"N = \"))"
   ]
  },
  {
   "cell_type": "code",
   "execution_count": 10,
   "metadata": {},
   "outputs": [
    {
     "name": "stdout",
     "output_type": "stream",
     "text": [
      "append 1\n",
      "append 2\n",
      "append 3\n",
      "print\n"
     ]
    }
   ],
   "source": [
    "a=[]\n",
    "b=[]\n",
    "for i in range(N):\n",
    "    x=input()\n",
    "    b.append(x)\n",
    "\n",
    "def cmd(command):\n",
    "    c = command.split(\" \")\n",
    "    if c[0] == \"append\":\n",
    "        e=int(c[1])\n",
    "        a.append(e)\n",
    "    elif c[0] == \"insert\":\n",
    "        i=int(c[1])\n",
    "        e=int(c[2])\n",
    "        a.insert(i,e)\n",
    "    elif c[0] ==\"print\":\n",
    "        print(a)\n",
    "    elif c[0] == \"remove\":\n",
    "        e = int(c[1])\n",
    "        a.remove(e)\n",
    "    elif c[0] == \"sort\":\n",
    "        a.sort()\n",
    "    elif c[0] == \"pop\":\n",
    "        a.pop()\n",
    "    elif c[0] == \"reverse\":\n",
    "        a.reverse()\n",
    "    else:\n",
    "        print(\"Invalid command\")"
   ]
  },
  {
   "cell_type": "code",
   "execution_count": 12,
   "metadata": {},
   "outputs": [
    {
     "name": "stdout",
     "output_type": "stream",
     "text": [
      "[1, 2, 3]\n"
     ]
    }
   ],
   "source": [
    "for i in range(N):\n",
    "    command = b[i]\n",
    "    cmd(command)\n",
    "    "
   ]
  },
  {
   "cell_type": "code",
   "execution_count": null,
   "metadata": {},
   "outputs": [],
   "source": []
  }
 ],
 "metadata": {
  "kernelspec": {
   "display_name": "Python 3",
   "language": "python",
   "name": "python3"
  },
  "language_info": {
   "codemirror_mode": {
    "name": "ipython",
    "version": 3
   },
   "file_extension": ".py",
   "mimetype": "text/x-python",
   "name": "python",
   "nbconvert_exporter": "python",
   "pygments_lexer": "ipython3",
   "version": "3.7.6"
  }
 },
 "nbformat": 4,
 "nbformat_minor": 4
}
