{
 "cells": [
  {
   "cell_type": "code",
   "execution_count": 4,
   "metadata": {},
   "outputs": [],
   "source": [
    "import requests\n"
   ]
  },
  {
   "cell_type": "code",
   "execution_count": 5,
   "metadata": {},
   "outputs": [
    {
     "name": "stdout",
     "output_type": "stream",
     "text": [
      "https://httpbin.org/get?key1=value1&key2=value2\n"
     ]
    }
   ],
   "source": [
    "payload = {'key1':'value1','key2':'value2'}\n",
    "r= requests.get('https://httpbin.org/get',params=payload)\n",
    "print(r.url)"
   ]
  },
  {
   "cell_type": "code",
   "execution_count": 6,
   "metadata": {},
   "outputs": [
    {
     "name": "stdout",
     "output_type": "stream",
     "text": [
      "URL:  https://httpbin.org/get?key1=value1&key2=value2&key2=value3\n",
      "ENCODING:  None\n",
      "STATUS_CODE: 200\n",
      "HEADERS {'Date': 'Tue, 14 Jul 2020 03:21:33 GMT', 'Content-Type': 'application/json', 'Content-Length': '419', 'Connection': 'keep-alive', 'Server': 'gunicorn/19.9.0', 'Access-Control-Allow-Origin': '*', 'Access-Control-Allow-Credentials': 'true'}\n",
      "TEXT:  {\n",
      "  \"args\": {\n",
      "    \"key1\": \"value1\", \n",
      "    \"key2\": [\n",
      "      \"value2\", \n",
      "      \"value3\"\n",
      "    ]\n",
      "  }, \n",
      "  \"headers\": {\n",
      "    \"Accept\": \"*/*\", \n",
      "    \"Accept-Encoding\": \"gzip, deflate\", \n",
      "    \"Host\": \"httpbin.org\", \n",
      "    \"User-Agent\": \"python-requests/2.22.0\", \n",
      "    \"X-Amzn-Trace-Id\": \"Root=1-5f0d24bd-e2c91b5ef5bf6430b0324eea\"\n",
      "  }, \n",
      "  \"origin\": \"27.34.68.80\", \n",
      "  \"url\": \"https://httpbin.org/get?key1=value1&key2=value2&key2=value3\"\n",
      "}\n",
      "\n",
      "CONTENT b'{\\n  \"args\": {\\n    \"key1\": \"value1\", \\n    \"key2\": [\\n      \"value2\", \\n      \"value3\"\\n    ]\\n  }, \\n  \"headers\": {\\n    \"Accept\": \"*/*\", \\n    \"Accept-Encoding\": \"gzip, deflate\", \\n    \"Host\": \"httpbin.org\", \\n    \"User-Agent\": \"python-requests/2.22.0\", \\n    \"X-Amzn-Trace-Id\": \"Root=1-5f0d24bd-e2c91b5ef5bf6430b0324eea\"\\n  }, \\n  \"origin\": \"27.34.68.80\", \\n  \"url\": \"https://httpbin.org/get?key1=value1&key2=value2&key2=value3\"\\n}\\n'\n",
      "JSON:  <bound method Response.json of <Response [200]>>\n"
     ]
    }
   ],
   "source": [
    "payload = {'key1':'value1','key2':['value2','value3']}\n",
    "r= requests.get('https://httpbin.org/get',params=payload)\n",
    "print('URL: ',r.url)\n",
    "print('ENCODING: ',r.encoding)\n",
    "print('STATUS_CODE:',r.status_code)\n",
    "print('HEADERS',r.headers)\n",
    "print('TEXT: ',r.text)\n",
    "print('CONTENT',r.content)\n",
    "print('JSON: ',r.json)"
   ]
  },
  {
   "cell_type": "markdown",
   "metadata": {},
   "source": [
    "# Using Requests to GET Currency Exchange Data"
   ]
  },
  {
   "cell_type": "code",
   "execution_count": 7,
   "metadata": {},
   "outputs": [
    {
     "name": "stdout",
     "output_type": "stream",
     "text": [
      "{\"rates\":{\"CAD\":1.5366,\"HKD\":8.7809,\"ISK\":159.4,\"PHP\":55.998,\"DKK\":7.4448,\"HUF\":353.83,\"CZK\":26.648,\"AUD\":1.6248,\"RON\":4.8443,\"SEK\":10.3833,\"IDR\":16342.08,\"INR\":85.216,\"BRL\":6.0494,\"RUB\":80.147,\"HRK\":7.534,\"JPY\":121.4,\"THB\":35.562,\"CHF\":1.0685,\"SGD\":1.5743,\"PLN\":4.4758,\"BGN\":1.9558,\"TRY\":7.7824,\"CNY\":7.9309,\"NOK\":10.665,\"NZD\":1.7226,\"ZAR\":18.9726,\"USD\":1.1329,\"MXN\":25.4857,\"ILS\":3.9026,\"GBP\":0.89938,\"KRW\":1361.37,\"MYR\":4.8306},\"base\":\"EUR\",\"date\":\"2020-07-13\"}\n"
     ]
    }
   ],
   "source": [
    "url = 'https://api.exchangeratesapi.io/latest'\n",
    "r = requests.get(url)\n",
    "print(r.text)"
   ]
  },
  {
   "cell_type": "code",
   "execution_count": 9,
   "metadata": {},
   "outputs": [
    {
     "name": "stdout",
     "output_type": "stream",
     "text": [
      "{\"rates\":{\"CAD\":1.3563421308,\"HKD\":7.7508164887,\"ISK\":140.7008562097,\"PHP\":49.428899285,\"DKK\":6.5714537912,\"HUF\":312.3223585489,\"CZK\":23.5219348574,\"GBP\":0.7938741283,\"RON\":4.2760173007,\"SEK\":9.1652396505,\"IDR\":14424.9977932739,\"INR\":75.2193485745,\"BRL\":5.3397475505,\"RUB\":70.7449907318,\"HRK\":6.6501897784,\"JPY\":107.1586194722,\"THB\":31.3902374437,\"CHF\":0.9431547356,\"EUR\":0.8826904405,\"MYR\":4.2639244417,\"BGN\":1.7263659635,\"TRY\":6.8694500839,\"CNY\":7.0005296143,\"NOK\":9.4138935475,\"NZD\":1.5205225527,\"ZAR\":16.7469326507,\"USD\":1.0,\"MXN\":22.4959837585,\"SGD\":1.3896195604,\"AUD\":1.4341954277,\"ILS\":3.4447877129,\"KRW\":1201.6682849325,\"PLN\":3.9507458734},\"base\":\"USD\",\"date\":\"2020-07-13\"}\n"
     ]
    }
   ],
   "source": [
    "url = 'https://api.exchangeratesapi.io/2020-07-14'\n",
    "r = requests.get(url,params={'base':'USD'})\n",
    "print(r.text)"
   ]
  },
  {
   "cell_type": "markdown",
   "metadata": {},
   "source": [
    "# Decoding JSON Data"
   ]
  },
  {
   "cell_type": "markdown",
   "metadata": {},
   "source": [
    "json.loads() converts a text string into python dict/list objects.\n",
    "json.dumps() converts dict/list objects into a string."
   ]
  },
  {
   "cell_type": "code",
   "execution_count": 12,
   "metadata": {},
   "outputs": [
    {
     "name": "stdout",
     "output_type": "stream",
     "text": [
      "{'CAD': 1.3563421308, 'HKD': 7.7508164887, 'ISK': 140.7008562097, 'PHP': 49.428899285, 'DKK': 6.5714537912, 'HUF': 312.3223585489, 'CZK': 23.5219348574, 'GBP': 0.7938741283, 'RON': 4.2760173007, 'SEK': 9.1652396505, 'IDR': 14424.9977932739, 'INR': 75.2193485745, 'BRL': 5.3397475505, 'RUB': 70.7449907318, 'HRK': 6.6501897784, 'JPY': 107.1586194722, 'THB': 31.3902374437, 'CHF': 0.9431547356, 'EUR': 0.8826904405, 'MYR': 4.2639244417, 'BGN': 1.7263659635, 'TRY': 6.8694500839, 'CNY': 7.0005296143, 'NOK': 9.4138935475, 'NZD': 1.5205225527, 'ZAR': 16.7469326507, 'USD': 1.0, 'MXN': 22.4959837585, 'SGD': 1.3896195604, 'AUD': 1.4341954277, 'ILS': 3.4447877129, 'KRW': 1201.6682849325, 'PLN': 3.9507458734}\n"
     ]
    }
   ],
   "source": [
    "import json\n",
    "rates_json = json.loads(r.text)['rates']\n",
    "print(rates_json)"
   ]
  }
 ],
 "metadata": {
  "kernelspec": {
   "display_name": "Python 3",
   "language": "python",
   "name": "python3"
  },
  "language_info": {
   "codemirror_mode": {
    "name": "ipython",
    "version": 3
   },
   "file_extension": ".py",
   "mimetype": "text/x-python",
   "name": "python",
   "nbconvert_exporter": "python",
   "pygments_lexer": "ipython3",
   "version": "3.7.6"
  }
 },
 "nbformat": 4,
 "nbformat_minor": 4
}
